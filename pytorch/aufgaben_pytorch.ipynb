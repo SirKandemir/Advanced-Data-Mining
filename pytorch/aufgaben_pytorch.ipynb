{
 "cells": [
  {
   "cell_type": "markdown",
   "metadata": {},
   "source": [
    "Aufgaben PyTorch\n",
    "================\n",
    "\n"
   ]
  },
  {
   "cell_type": "markdown",
   "metadata": {},
   "source": [
    "## Install PyTorch\n",
    "\n"
   ]
  },
  {
   "cell_type": "markdown",
   "metadata": {},
   "source": [
    "Checkout this website, to obtain the command to install Pytorch:\n",
    "[https://pytorch.org/get-started/locally/](https://pytorch.org/get-started/locally/)\n",
    "\n",
    "Check the version\n",
    "\n"
   ]
  },
  {
   "cell_type": "code",
   "execution_count": 32,
   "metadata": {},
   "outputs": [
    {
     "name": "stdout",
     "output_type": "stream",
     "text": [
      "Version 2.0.1\n"
     ]
    }
   ],
   "source": [
    "import numpy as np\n",
    "import math \n",
    "import torch\n",
    "print(f'Version {torch.__version__}')"
   ]
  },
  {
   "cell_type": "markdown",
   "metadata": {},
   "source": [
    "and run some code:\n",
    "\n"
   ]
  },
  {
   "cell_type": "code",
   "execution_count": 16,
   "metadata": {},
   "outputs": [
    {
     "name": "stdout",
     "output_type": "stream",
     "text": [
      "tensor([[0.7913, 0.7845, 0.9869],\n",
      "        [0.5844, 0.5782, 0.8301],\n",
      "        [0.2970, 0.2336, 0.0685],\n",
      "        [0.0508, 0.0734, 0.2850],\n",
      "        [0.7956, 0.0433, 0.4205]])\n"
     ]
    }
   ],
   "source": [
    "x = torch.rand(5, 3)\n",
    "print(x)"
   ]
  },
  {
   "cell_type": "markdown",
   "metadata": {},
   "source": [
    "## Shapes\n",
    "\n"
   ]
  },
  {
   "cell_type": "markdown",
   "metadata": {},
   "source": [
    "1.  Create a tensor `a` from a list with 9 elements (e.g, `range(9)`). Predict and then check the shape (size).\n",
    "\n",
    "2.  Create a new tensor using `b = a.view(3, 3)`. What does view do? Check that a and b share the same storage.\n",
    "\n",
    "3.  Create a tensor `c = b[1:, 1:]`. Predict and then check the shape.\n",
    "\n"
   ]
  },
  {
   "cell_type": "code",
   "execution_count": 30,
   "metadata": {},
   "outputs": [
    {
     "name": "stdout",
     "output_type": "stream",
     "text": [
      "tensor([0, 1, 2, 3, 4, 5, 6, 7, 8])\n",
      "torch.Size([9])\n",
      "tensor([[0, 1, 2],\n",
      "        [3, 4, 5],\n",
      "        [6, 7, 8]])\n",
      "tensor([ 0,  1,  2,  3,  4, 90,  6,  7,  8])\n",
      "tensor([[ 0,  1,  2],\n",
      "        [ 3,  4, 90],\n",
      "        [ 6,  7,  8]])\n"
     ]
    }
   ],
   "source": [
    "a = torch.tensor(range(9))\n",
    "print(a)\n",
    "print(a.shape)\n",
    "\n",
    "b = a.view(3, 3)\n",
    "print(b)\n"
   ]
  },
  {
   "cell_type": "markdown",
   "metadata": {},
   "source": [
    "## Broadcasting\n",
    "\n"
   ]
  },
  {
   "cell_type": "markdown",
   "metadata": {},
   "source": [
    "Predict and check the result of the following operation:\n",
    "\n"
   ]
  },
  {
   "cell_type": "code",
   "execution_count": 31,
   "metadata": {},
   "outputs": [
    {
     "name": "stdout",
     "output_type": "stream",
     "text": [
      "tensor([[1, 2, 3],\n",
      "        [4, 5, 6],\n",
      "        [7, 8, 9]])\n"
     ]
    }
   ],
   "source": [
    "a = torch.tensor(range(9)).reshape(3,3)\n",
    "b = torch.tensor([1, 1, 1])\n",
    "\n",
    "print(a+b)\n",
    "\n",
    "\n",
    "# 0 1 2     1 1 1     1 2 3\n",
    "# 3 4 5  +         =  4 5 6     \n",
    "# 6 7 8               7 8 9"
   ]
  },
  {
   "cell_type": "markdown",
   "metadata": {},
   "source": [
    "Can you  explain the observed behaviour?\n",
    "\n"
   ]
  },
  {
   "cell_type": "markdown",
   "metadata": {},
   "source": [
    "## Sharing between NumPy and PyTorch\n",
    "\n"
   ]
  },
  {
   "cell_type": "markdown",
   "metadata": {},
   "source": [
    "Create a random `numpy` array (for example with `numpy.random.normal`) of shape (4,3).\n",
    "Now create a bridged torch tensor (`from_numpy`).\n",
    "Show that multiplying the torch tensor with some number, also change `a`.\n",
    "Hint: to multiply in place use `mul_`.\n",
    "\n"
   ]
  },
  {
   "cell_type": "code",
   "execution_count": 45,
   "metadata": {},
   "outputs": [
    {
     "name": "stdout",
     "output_type": "stream",
     "text": [
      "[[ 2.36252288  0.36552367 -1.31363679]\n",
      " [ 0.35500841 -0.55681937  0.79027718]\n",
      " [-0.71161129  1.78668213 -0.52029969]\n",
      " [-0.47125404 -0.51014877  2.07629081]]\n",
      "tensor([[ 2.3625,  0.3655, -1.3136],\n",
      "        [ 0.3550, -0.5568,  0.7903],\n",
      "        [-0.7116,  1.7867, -0.5203],\n",
      "        [-0.4713, -0.5101,  2.0763]], dtype=torch.float64)\n",
      "[[ 9.45009151  1.46209469 -5.25454718]\n",
      " [ 1.42003365 -2.22727748  3.1611087 ]\n",
      " [-2.84644516  7.14672853 -2.08119876]\n",
      " [-1.88501615 -2.04059509  8.30516326]]\n",
      "tensor([[ 9.4501,  1.4621, -5.2545],\n",
      "        [ 1.4200, -2.2273,  3.1611],\n",
      "        [-2.8464,  7.1467, -2.0812],\n",
      "        [-1.8850, -2.0406,  8.3052]], dtype=torch.float64)\n"
     ]
    }
   ],
   "source": [
    "np_array = np.reshape(np.random.normal(size=4*3), (4, 3))\n",
    "torch_tensor = torch.from_numpy(np_array)\n",
    "\n",
    "print(np_array)\n",
    "print(torch_tensor)\n",
    "\n",
    "torch_tensor.mul_(4)\n",
    "\n",
    "print(np_array)\n",
    "print(torch_tensor)\n"
   ]
  },
  {
   "cell_type": "markdown",
   "metadata": {},
   "source": [
    "## Autograd\n",
    "\n"
   ]
  },
  {
   "cell_type": "markdown",
   "metadata": {},
   "source": [
    "For $x=1$ compute the following\n",
    "$$\n",
    "\\frac{d}{d x} f(h(x))\n",
    "$$\n",
    "where $f(x) = x^3$ and $h(x)=cos(x)$.\n",
    "\n",
    "1.  First compute the result by *hand* (use the chain rule, and a calculator)\n",
    "2.  Write a Python script to compute it with PyTorch using  `autograd`.\n",
    "\n"
   ]
  },
  {
   "cell_type": "code",
   "execution_count": 53,
   "metadata": {},
   "outputs": [
    {
     "name": "stdout",
     "output_type": "stream",
     "text": [
      "tensor(-0.7369)\n"
     ]
    }
   ],
   "source": [
    "def h(x):\n",
    "    return torch.cos(x)\n",
    "\n",
    "def f(x):\n",
    "    return x**3\n",
    "\n",
    "x = torch.tensor(1.0, requires_grad=True)\n",
    "y = f(h(x))\n",
    "y.backward()\n",
    "print(x.grad)"
   ]
  }
 ],
 "metadata": {
  "kernelspec": {
   "display_name": "Python 3 (ipykernel)",
   "language": "python",
   "name": "python3"
  },
  "language_info": {
   "codemirror_mode": {
    "name": "ipython",
    "version": 3
   },
   "file_extension": ".py",
   "mimetype": "text/x-python",
   "name": "python",
   "nbconvert_exporter": "python",
   "pygments_lexer": "ipython3",
   "version": "3.11.5"
  },
  "org": null,
  "toc": {
   "base_numbering": 1,
   "nav_menu": {},
   "number_sections": true,
   "sideBar": true,
   "skip_h1_title": false,
   "title_cell": "Table of Contents",
   "title_sidebar": "Contents",
   "toc_cell": false,
   "toc_position": {},
   "toc_section_display": true,
   "toc_window_display": true
  }
 },
 "nbformat": 4,
 "nbformat_minor": 1
}
